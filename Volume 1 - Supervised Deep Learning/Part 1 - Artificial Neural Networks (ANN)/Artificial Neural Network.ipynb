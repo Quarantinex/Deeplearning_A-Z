{
 "cells": [
  {
   "cell_type": "markdown",
   "metadata": {},
   "source": [
    "### Importing Libraries"
   ]
  },
  {
   "cell_type": "code",
   "execution_count": 1,
   "metadata": {},
   "outputs": [],
   "source": [
    "import numpy as np\n",
    "import matplotlib.pyplot as plt\n",
    "import pandas as pd"
   ]
  },
  {
   "cell_type": "markdown",
   "metadata": {},
   "source": [
    "### Importing the Dataset and selecting dependant and independant variables"
   ]
  },
  {
   "cell_type": "code",
   "execution_count": 2,
   "metadata": {},
   "outputs": [],
   "source": [
    "dataset = pd.read_csv('Churn_Modelling.csv')\n",
    "X = dataset.iloc[:, 3:13].values\n",
    "y = dataset.iloc[:, 13].values"
   ]
  },
  {
   "cell_type": "markdown",
   "metadata": {},
   "source": [
    "### Encoding the categorical data"
   ]
  },
  {
   "cell_type": "code",
   "execution_count": 3,
   "metadata": {},
   "outputs": [
    {
     "name": "stderr",
     "output_type": "stream",
     "text": [
      "/home/quarantinex/anaconda3/lib/python3.6/site-packages/sklearn/preprocessing/_encoders.py:415: FutureWarning: The handling of integer data will change in version 0.22. Currently, the categories are determined based on the range [0, max(values)], while in the future they will be determined based on the unique values.\n",
      "If you want the future behaviour and silence this warning, you can specify \"categories='auto'\".\n",
      "In case you used a LabelEncoder before this OneHotEncoder to convert the categories to integers, then you can now use the OneHotEncoder directly.\n",
      "  warnings.warn(msg, FutureWarning)\n",
      "/home/quarantinex/anaconda3/lib/python3.6/site-packages/sklearn/preprocessing/_encoders.py:451: DeprecationWarning: The 'categorical_features' keyword is deprecated in version 0.20 and will be removed in 0.22. You can use the ColumnTransformer instead.\n",
      "  \"use the ColumnTransformer instead.\", DeprecationWarning)\n"
     ]
    }
   ],
   "source": [
    "from sklearn.preprocessing import LabelEncoder, OneHotEncoder\n",
    "labelencoder_X_1 = LabelEncoder()\n",
    "X[:, 1] = labelencoder_X_1.fit_transform(X[:, 1])\n",
    "labelencoder_X_2 = LabelEncoder()\n",
    "X[:, 2] = labelencoder_X_2.fit_transform(X[:, 2])\n",
    "onehotencoder = OneHotEncoder(categorical_features = [1])\n",
    "X = onehotencoder.fit_transform(X).toarray()\n",
    "X = X[:, 1:]"
   ]
  },
  {
   "cell_type": "markdown",
   "metadata": {},
   "source": [
    "### Spliting the selected dataset into Training and Testing datasets"
   ]
  },
  {
   "cell_type": "code",
   "execution_count": 4,
   "metadata": {},
   "outputs": [],
   "source": [
    "from sklearn.model_selection import train_test_split\n",
    "X_train, X_test, y_train, y_test = train_test_split(X, y, test_size = 0.2, random_state = 0)"
   ]
  },
  {
   "cell_type": "markdown",
   "metadata": {},
   "source": [
    "### Feature Scaling"
   ]
  },
  {
   "cell_type": "code",
   "execution_count": 5,
   "metadata": {},
   "outputs": [],
   "source": [
    "from sklearn.preprocessing import StandardScaler\n",
    "sc = StandardScaler()\n",
    "X_train = sc.fit_transform(X_train)\n",
    "X_test = sc.transform(X_test)"
   ]
  },
  {
   "cell_type": "markdown",
   "metadata": {},
   "source": [
    "### Import Keras and required packages"
   ]
  },
  {
   "cell_type": "code",
   "execution_count": 6,
   "metadata": {},
   "outputs": [
    {
     "name": "stderr",
     "output_type": "stream",
     "text": [
      "Using TensorFlow backend.\n"
     ]
    }
   ],
   "source": [
    "import keras\n",
    "from keras.models import Sequential\n",
    "from keras.layers import Dense"
   ]
  },
  {
   "cell_type": "markdown",
   "metadata": {},
   "source": [
    "### Initializing the ANN"
   ]
  },
  {
   "cell_type": "code",
   "execution_count": 7,
   "metadata": {},
   "outputs": [],
   "source": [
    "classifier = Sequential()"
   ]
  },
  {
   "cell_type": "markdown",
   "metadata": {},
   "source": [
    "### Adding the input layer and the first hidden layer"
   ]
  },
  {
   "cell_type": "code",
   "execution_count": 8,
   "metadata": {},
   "outputs": [],
   "source": [
    "classifier.add(Dense(units = 6, kernel_initializer = 'uniform', activation = 'relu', input_dim = 11))"
   ]
  },
  {
   "cell_type": "markdown",
   "metadata": {},
   "source": [
    "### Adding the second hidden layer"
   ]
  },
  {
   "cell_type": "code",
   "execution_count": 9,
   "metadata": {},
   "outputs": [],
   "source": [
    "classifier.add(Dense(units = 6, kernel_initializer = 'uniform', activation = 'relu'))"
   ]
  },
  {
   "cell_type": "markdown",
   "metadata": {},
   "source": [
    "### Adding the output layer"
   ]
  },
  {
   "cell_type": "code",
   "execution_count": 10,
   "metadata": {},
   "outputs": [],
   "source": [
    "classifier.add(Dense(units = 1, kernel_initializer = 'uniform', activation = 'sigmoid'))"
   ]
  },
  {
   "cell_type": "markdown",
   "metadata": {},
   "source": [
    "### Compiling the ANN"
   ]
  },
  {
   "cell_type": "code",
   "execution_count": 11,
   "metadata": {},
   "outputs": [],
   "source": [
    "classifier.compile(optimizer = 'adam', loss = 'binary_crossentropy', metrics = ['accuracy'])"
   ]
  },
  {
   "cell_type": "markdown",
   "metadata": {},
   "source": [
    "### Fitting the ANN to the Training set"
   ]
  },
  {
   "cell_type": "code",
   "execution_count": 13,
   "metadata": {
    "scrolled": true
   },
   "outputs": [
    {
     "name": "stdout",
     "output_type": "stream",
     "text": [
      "Epoch 1/200\n",
      "8000/8000 [==============================] - 1s 79us/step - loss: 0.3453 - acc: 0.8595\n",
      "Epoch 2/200\n",
      "8000/8000 [==============================] - 1s 84us/step - loss: 0.3451 - acc: 0.8612\n",
      "Epoch 3/200\n",
      "8000/8000 [==============================] - 1s 84us/step - loss: 0.3453 - acc: 0.8597\n",
      "Epoch 4/200\n",
      "8000/8000 [==============================] - 1s 85us/step - loss: 0.3451 - acc: 0.8620\n",
      "Epoch 5/200\n",
      "8000/8000 [==============================] - 1s 84us/step - loss: 0.3448 - acc: 0.8595\n",
      "Epoch 6/200\n",
      "8000/8000 [==============================] - 1s 84us/step - loss: 0.3448 - acc: 0.8625\n",
      "Epoch 7/200\n",
      "8000/8000 [==============================] - 1s 84us/step - loss: 0.3442 - acc: 0.8594\n",
      "Epoch 8/200\n",
      "8000/8000 [==============================] - 1s 84us/step - loss: 0.3443 - acc: 0.8597\n",
      "Epoch 9/200\n",
      "8000/8000 [==============================] - 1s 84us/step - loss: 0.3439 - acc: 0.8612\n",
      "Epoch 10/200\n",
      "8000/8000 [==============================] - 1s 84us/step - loss: 0.3438 - acc: 0.8611\n",
      "Epoch 11/200\n",
      "8000/8000 [==============================] - 1s 85us/step - loss: 0.3438 - acc: 0.8636\n",
      "Epoch 12/200\n",
      "8000/8000 [==============================] - 1s 84us/step - loss: 0.3436 - acc: 0.8631\n",
      "Epoch 13/200\n",
      "8000/8000 [==============================] - 1s 85us/step - loss: 0.3439 - acc: 0.8601\n",
      "Epoch 14/200\n",
      "8000/8000 [==============================] - 1s 84us/step - loss: 0.3427 - acc: 0.8646\n",
      "Epoch 15/200\n",
      "8000/8000 [==============================] - 1s 88us/step - loss: 0.3433 - acc: 0.8605\n",
      "Epoch 16/200\n",
      "8000/8000 [==============================] - 1s 86us/step - loss: 0.3438 - acc: 0.8620\n",
      "Epoch 17/200\n",
      "8000/8000 [==============================] - 1s 88us/step - loss: 0.3431 - acc: 0.8637\n",
      "Epoch 18/200\n",
      "8000/8000 [==============================] - 1s 89us/step - loss: 0.3431 - acc: 0.8616\n",
      "Epoch 19/200\n",
      "8000/8000 [==============================] - 1s 88us/step - loss: 0.3429 - acc: 0.8617\n",
      "Epoch 20/200\n",
      "8000/8000 [==============================] - 1s 89us/step - loss: 0.3432 - acc: 0.8617\n",
      "Epoch 21/200\n",
      "8000/8000 [==============================] - 1s 88us/step - loss: 0.3431 - acc: 0.8614\n",
      "Epoch 22/200\n",
      "8000/8000 [==============================] - 1s 86us/step - loss: 0.3424 - acc: 0.8640\n",
      "Epoch 23/200\n",
      "8000/8000 [==============================] - 1s 85us/step - loss: 0.3426 - acc: 0.8615\n",
      "Epoch 24/200\n",
      "8000/8000 [==============================] - 1s 86us/step - loss: 0.3428 - acc: 0.8625\n",
      "Epoch 25/200\n",
      "8000/8000 [==============================] - 1s 86us/step - loss: 0.3427 - acc: 0.8606\n",
      "Epoch 26/200\n",
      "8000/8000 [==============================] - 1s 85us/step - loss: 0.3419 - acc: 0.8616\n",
      "Epoch 27/200\n",
      "8000/8000 [==============================] - 1s 86us/step - loss: 0.3424 - acc: 0.8620\n",
      "Epoch 28/200\n",
      "8000/8000 [==============================] - 1s 89us/step - loss: 0.3429 - acc: 0.8604\n",
      "Epoch 29/200\n",
      "8000/8000 [==============================] - 1s 90us/step - loss: 0.3427 - acc: 0.8620\n",
      "Epoch 30/200\n",
      "8000/8000 [==============================] - 1s 97us/step - loss: 0.3433 - acc: 0.8626\n",
      "Epoch 31/200\n",
      "8000/8000 [==============================] - 1s 85us/step - loss: 0.3424 - acc: 0.8610\n",
      "Epoch 32/200\n",
      "8000/8000 [==============================] - 1s 82us/step - loss: 0.3412 - acc: 0.8626\n",
      "Epoch 33/200\n",
      "8000/8000 [==============================] - 1s 81us/step - loss: 0.3426 - acc: 0.8614\n",
      "Epoch 34/200\n",
      "8000/8000 [==============================] - 1s 79us/step - loss: 0.3421 - acc: 0.8607\n",
      "Epoch 35/200\n",
      "8000/8000 [==============================] - 1s 85us/step - loss: 0.3415 - acc: 0.8640\n",
      "Epoch 36/200\n",
      "8000/8000 [==============================] - 1s 86us/step - loss: 0.3416 - acc: 0.8622\n",
      "Epoch 37/200\n",
      "8000/8000 [==============================] - 1s 80us/step - loss: 0.3403 - acc: 0.8636\n",
      "Epoch 38/200\n",
      "8000/8000 [==============================] - 1s 80us/step - loss: 0.3427 - acc: 0.8612\n",
      "Epoch 39/200\n",
      "8000/8000 [==============================] - 1s 79us/step - loss: 0.3422 - acc: 0.8617\n",
      "Epoch 40/200\n",
      "8000/8000 [==============================] - 1s 86us/step - loss: 0.3416 - acc: 0.8609\n",
      "Epoch 41/200\n",
      "8000/8000 [==============================] - 1s 81us/step - loss: 0.3422 - acc: 0.8604\n",
      "Epoch 42/200\n",
      "8000/8000 [==============================] - 1s 78us/step - loss: 0.3417 - acc: 0.8589\n",
      "Epoch 43/200\n",
      "8000/8000 [==============================] - 1s 88us/step - loss: 0.3413 - acc: 0.8605\n",
      "Epoch 44/200\n",
      "8000/8000 [==============================] - 1s 86us/step - loss: 0.3411 - acc: 0.8617\n",
      "Epoch 45/200\n",
      "8000/8000 [==============================] - 1s 88us/step - loss: 0.3415 - acc: 0.8610\n",
      "Epoch 46/200\n",
      "8000/8000 [==============================] - 1s 89us/step - loss: 0.3417 - acc: 0.8609\n",
      "Epoch 47/200\n",
      "8000/8000 [==============================] - 1s 88us/step - loss: 0.3411 - acc: 0.8616\n",
      "Epoch 48/200\n",
      "8000/8000 [==============================] - 1s 91us/step - loss: 0.3409 - acc: 0.8636\n",
      "Epoch 49/200\n",
      "8000/8000 [==============================] - 1s 86us/step - loss: 0.3423 - acc: 0.8610\n",
      "Epoch 50/200\n",
      "8000/8000 [==============================] - 1s 86us/step - loss: 0.3414 - acc: 0.8616\n",
      "Epoch 51/200\n",
      "8000/8000 [==============================] - 1s 86us/step - loss: 0.3411 - acc: 0.8609\n",
      "Epoch 52/200\n",
      "8000/8000 [==============================] - 1s 87us/step - loss: 0.3413 - acc: 0.8610\n",
      "Epoch 53/200\n",
      "8000/8000 [==============================] - 1s 86us/step - loss: 0.3413 - acc: 0.8622\n",
      "Epoch 54/200\n",
      "8000/8000 [==============================] - 1s 89us/step - loss: 0.3416 - acc: 0.8614\n",
      "Epoch 55/200\n",
      "8000/8000 [==============================] - 1s 88us/step - loss: 0.3416 - acc: 0.8604\n",
      "Epoch 56/200\n",
      "8000/8000 [==============================] - 1s 88us/step - loss: 0.3415 - acc: 0.8607\n",
      "Epoch 57/200\n",
      "8000/8000 [==============================] - 1s 89us/step - loss: 0.3408 - acc: 0.8609\n",
      "Epoch 58/200\n",
      "8000/8000 [==============================] - 1s 96us/step - loss: 0.3410 - acc: 0.8609\n",
      "Epoch 59/200\n",
      "8000/8000 [==============================] - 1s 85us/step - loss: 0.3410 - acc: 0.8616\n",
      "Epoch 60/200\n",
      "8000/8000 [==============================] - 1s 83us/step - loss: 0.3410 - acc: 0.8606\n",
      "Epoch 61/200\n",
      "8000/8000 [==============================] - 1s 87us/step - loss: 0.3409 - acc: 0.8632\n",
      "Epoch 62/200\n",
      "8000/8000 [==============================] - 1s 84us/step - loss: 0.3408 - acc: 0.8625\n",
      "Epoch 63/200\n",
      "8000/8000 [==============================] - 1s 75us/step - loss: 0.3415 - acc: 0.8624\n",
      "Epoch 64/200\n",
      "8000/8000 [==============================] - 1s 77us/step - loss: 0.3414 - acc: 0.8599\n",
      "Epoch 65/200\n",
      "8000/8000 [==============================] - 1s 85us/step - loss: 0.3407 - acc: 0.8620\n",
      "Epoch 66/200\n",
      "8000/8000 [==============================] - 1s 93us/step - loss: 0.3407 - acc: 0.8609\n",
      "Epoch 67/200\n",
      "8000/8000 [==============================] - 1s 88us/step - loss: 0.3405 - acc: 0.8620\n",
      "Epoch 68/200\n",
      "8000/8000 [==============================] - 1s 85us/step - loss: 0.3410 - acc: 0.8610\n",
      "Epoch 69/200\n",
      "8000/8000 [==============================] - 1s 91us/step - loss: 0.3406 - acc: 0.8626\n",
      "Epoch 70/200\n",
      "8000/8000 [==============================] - 1s 86us/step - loss: 0.3408 - acc: 0.8624\n",
      "Epoch 71/200\n",
      "8000/8000 [==============================] - 1s 89us/step - loss: 0.3405 - acc: 0.8632\n",
      "Epoch 72/200\n",
      "8000/8000 [==============================] - 1s 89us/step - loss: 0.3404 - acc: 0.8636\n",
      "Epoch 73/200\n",
      "8000/8000 [==============================] - 1s 88us/step - loss: 0.3402 - acc: 0.8610\n",
      "Epoch 74/200\n",
      "8000/8000 [==============================] - 1s 89us/step - loss: 0.3401 - acc: 0.8622\n",
      "Epoch 75/200\n",
      "8000/8000 [==============================] - 1s 88us/step - loss: 0.3406 - acc: 0.8620\n",
      "Epoch 76/200\n",
      "8000/8000 [==============================] - 1s 88us/step - loss: 0.3404 - acc: 0.8627\n",
      "Epoch 77/200\n",
      "8000/8000 [==============================] - 1s 91us/step - loss: 0.3405 - acc: 0.8592\n",
      "Epoch 78/200\n",
      "8000/8000 [==============================] - 1s 93us/step - loss: 0.3406 - acc: 0.8626\n",
      "Epoch 79/200\n",
      "8000/8000 [==============================] - 1s 82us/step - loss: 0.3403 - acc: 0.8601\n",
      "Epoch 80/200\n",
      "8000/8000 [==============================] - 1s 81us/step - loss: 0.3403 - acc: 0.8625\n",
      "Epoch 81/200\n",
      "8000/8000 [==============================] - 1s 82us/step - loss: 0.3405 - acc: 0.8640\n",
      "Epoch 82/200\n",
      "8000/8000 [==============================] - 1s 85us/step - loss: 0.3406 - acc: 0.8609\n",
      "Epoch 83/200\n"
     ]
    },
    {
     "name": "stdout",
     "output_type": "stream",
     "text": [
      "8000/8000 [==============================] - 1s 82us/step - loss: 0.3406 - acc: 0.8615\n",
      "Epoch 84/200\n",
      "8000/8000 [==============================] - 1s 79us/step - loss: 0.3403 - acc: 0.8615\n",
      "Epoch 85/200\n",
      "8000/8000 [==============================] - 1s 77us/step - loss: 0.3401 - acc: 0.8612\n",
      "Epoch 86/200\n",
      "8000/8000 [==============================] - 1s 73us/step - loss: 0.3401 - acc: 0.8624\n",
      "Epoch 87/200\n",
      "8000/8000 [==============================] - 1s 73us/step - loss: 0.3401 - acc: 0.8626\n",
      "Epoch 88/200\n",
      "8000/8000 [==============================] - 1s 76us/step - loss: 0.3408 - acc: 0.8621\n",
      "Epoch 89/200\n",
      "8000/8000 [==============================] - 1s 74us/step - loss: 0.3400 - acc: 0.8624\n",
      "Epoch 90/200\n",
      "8000/8000 [==============================] - 1s 78us/step - loss: 0.3405 - acc: 0.8632\n",
      "Epoch 91/200\n",
      "8000/8000 [==============================] - 1s 88us/step - loss: 0.3404 - acc: 0.8607\n",
      "Epoch 92/200\n",
      "8000/8000 [==============================] - 1s 87us/step - loss: 0.3402 - acc: 0.8624\n",
      "Epoch 93/200\n",
      "8000/8000 [==============================] - 1s 83us/step - loss: 0.3404 - acc: 0.8625\n",
      "Epoch 94/200\n",
      "8000/8000 [==============================] - 1s 89us/step - loss: 0.3400 - acc: 0.8607\n",
      "Epoch 95/200\n",
      "8000/8000 [==============================] - 1s 86us/step - loss: 0.3402 - acc: 0.8604\n",
      "Epoch 96/200\n",
      "8000/8000 [==============================] - 1s 82us/step - loss: 0.3398 - acc: 0.8590\n",
      "Epoch 97/200\n",
      "8000/8000 [==============================] - 1s 84us/step - loss: 0.3400 - acc: 0.8612\n",
      "Epoch 98/200\n",
      "8000/8000 [==============================] - 1s 87us/step - loss: 0.3399 - acc: 0.8587\n",
      "Epoch 99/200\n",
      "8000/8000 [==============================] - 1s 84us/step - loss: 0.3403 - acc: 0.8629\n",
      "Epoch 100/200\n",
      "8000/8000 [==============================] - 1s 90us/step - loss: 0.3398 - acc: 0.8599\n",
      "Epoch 101/200\n",
      "8000/8000 [==============================] - 1s 90us/step - loss: 0.3394 - acc: 0.8612\n",
      "Epoch 102/200\n",
      "8000/8000 [==============================] - 1s 82us/step - loss: 0.3399 - acc: 0.8630\n",
      "Epoch 103/200\n",
      "8000/8000 [==============================] - 1s 80us/step - loss: 0.3403 - acc: 0.8621\n",
      "Epoch 104/200\n",
      "8000/8000 [==============================] - 1s 82us/step - loss: 0.3397 - acc: 0.8600\n",
      "Epoch 105/200\n",
      "8000/8000 [==============================] - 1s 90us/step - loss: 0.3394 - acc: 0.8621\n",
      "Epoch 106/200\n",
      "8000/8000 [==============================] - 1s 86us/step - loss: 0.3395 - acc: 0.8614\n",
      "Epoch 107/200\n",
      "8000/8000 [==============================] - 1s 85us/step - loss: 0.3398 - acc: 0.8637\n",
      "Epoch 108/200\n",
      "8000/8000 [==============================] - 1s 82us/step - loss: 0.3394 - acc: 0.8632\n",
      "Epoch 109/200\n",
      "8000/8000 [==============================] - 1s 89us/step - loss: 0.3395 - acc: 0.8619\n",
      "Epoch 110/200\n",
      "8000/8000 [==============================] - 1s 84us/step - loss: 0.3397 - acc: 0.8606\n",
      "Epoch 111/200\n",
      "8000/8000 [==============================] - 1s 86us/step - loss: 0.3404 - acc: 0.8615\n",
      "Epoch 112/200\n",
      "8000/8000 [==============================] - 1s 87us/step - loss: 0.3401 - acc: 0.8617\n",
      "Epoch 113/200\n",
      "8000/8000 [==============================] - 1s 86us/step - loss: 0.3401 - acc: 0.8619\n",
      "Epoch 114/200\n",
      "8000/8000 [==============================] - 1s 90us/step - loss: 0.3399 - acc: 0.8614\n",
      "Epoch 115/200\n",
      "8000/8000 [==============================] - 1s 88us/step - loss: 0.3398 - acc: 0.8616\n",
      "Epoch 116/200\n",
      "8000/8000 [==============================] - 1s 86us/step - loss: 0.3390 - acc: 0.8601\n",
      "Epoch 117/200\n",
      "8000/8000 [==============================] - 1s 91us/step - loss: 0.3395 - acc: 0.8634\n",
      "Epoch 118/200\n",
      "8000/8000 [==============================] - 1s 87us/step - loss: 0.3399 - acc: 0.8610\n",
      "Epoch 119/200\n",
      "8000/8000 [==============================] - 1s 88us/step - loss: 0.3396 - acc: 0.8609\n",
      "Epoch 120/200\n",
      "8000/8000 [==============================] - 1s 88us/step - loss: 0.3396 - acc: 0.8635\n",
      "Epoch 121/200\n",
      "8000/8000 [==============================] - 1s 88us/step - loss: 0.3405 - acc: 0.8614\n",
      "Epoch 122/200\n",
      "8000/8000 [==============================] - 1s 87us/step - loss: 0.3396 - acc: 0.8630\n",
      "Epoch 123/200\n",
      "8000/8000 [==============================] - 1s 85us/step - loss: 0.3390 - acc: 0.8621\n",
      "Epoch 124/200\n",
      "8000/8000 [==============================] - 1s 85us/step - loss: 0.3400 - acc: 0.8636\n",
      "Epoch 125/200\n",
      "8000/8000 [==============================] - 1s 87us/step - loss: 0.3390 - acc: 0.8629\n",
      "Epoch 126/200\n",
      "8000/8000 [==============================] - 1s 87us/step - loss: 0.3395 - acc: 0.8620\n",
      "Epoch 127/200\n",
      "8000/8000 [==============================] - 1s 86us/step - loss: 0.3390 - acc: 0.8616\n",
      "Epoch 128/200\n",
      "8000/8000 [==============================] - 1s 86us/step - loss: 0.3393 - acc: 0.8619\n",
      "Epoch 129/200\n",
      "8000/8000 [==============================] - 1s 86us/step - loss: 0.3392 - acc: 0.8634\n",
      "Epoch 130/200\n",
      "8000/8000 [==============================] - 1s 86us/step - loss: 0.3398 - acc: 0.8624\n",
      "Epoch 131/200\n",
      "8000/8000 [==============================] - 1s 86us/step - loss: 0.3399 - acc: 0.8617\n",
      "Epoch 132/200\n",
      "8000/8000 [==============================] - 1s 86us/step - loss: 0.3391 - acc: 0.8625\n",
      "Epoch 133/200\n",
      "8000/8000 [==============================] - 1s 87us/step - loss: 0.3393 - acc: 0.8624\n",
      "Epoch 134/200\n",
      "8000/8000 [==============================] - 1s 87us/step - loss: 0.3397 - acc: 0.8610\n",
      "Epoch 135/200\n",
      "8000/8000 [==============================] - 1s 86us/step - loss: 0.3391 - acc: 0.8611\n",
      "Epoch 136/200\n",
      "8000/8000 [==============================] - 1s 87us/step - loss: 0.3390 - acc: 0.8615\n",
      "Epoch 137/200\n",
      "8000/8000 [==============================] - 1s 88us/step - loss: 0.3401 - acc: 0.8610\n",
      "Epoch 138/200\n",
      "8000/8000 [==============================] - 1s 86us/step - loss: 0.3385 - acc: 0.8625\n",
      "Epoch 139/200\n",
      "8000/8000 [==============================] - 1s 88us/step - loss: 0.3394 - acc: 0.8622\n",
      "Epoch 140/200\n",
      "8000/8000 [==============================] - 1s 91us/step - loss: 0.3393 - acc: 0.8626\n",
      "Epoch 141/200\n",
      "8000/8000 [==============================] - 1s 89us/step - loss: 0.3403 - acc: 0.8640\n",
      "Epoch 142/200\n",
      "8000/8000 [==============================] - 1s 87us/step - loss: 0.3390 - acc: 0.8614\n",
      "Epoch 143/200\n",
      "8000/8000 [==============================] - 1s 91us/step - loss: 0.3395 - acc: 0.8624\n",
      "Epoch 144/200\n",
      "8000/8000 [==============================] - 1s 86us/step - loss: 0.3394 - acc: 0.8605\n",
      "Epoch 145/200\n",
      "8000/8000 [==============================] - 1s 90us/step - loss: 0.3393 - acc: 0.8634\n",
      "Epoch 146/200\n",
      "8000/8000 [==============================] - 1s 92us/step - loss: 0.3396 - acc: 0.8625\n",
      "Epoch 147/200\n",
      "8000/8000 [==============================] - 1s 89us/step - loss: 0.3391 - acc: 0.8620\n",
      "Epoch 148/200\n",
      "8000/8000 [==============================] - 1s 88us/step - loss: 0.3397 - acc: 0.8625\n",
      "Epoch 149/200\n",
      "8000/8000 [==============================] - 1s 86us/step - loss: 0.3392 - acc: 0.8620\n",
      "Epoch 150/200\n",
      "8000/8000 [==============================] - 1s 85us/step - loss: 0.3389 - acc: 0.8629\n",
      "Epoch 151/200\n",
      "8000/8000 [==============================] - 1s 87us/step - loss: 0.3387 - acc: 0.8615\n",
      "Epoch 152/200\n",
      "8000/8000 [==============================] - 1s 87us/step - loss: 0.3390 - acc: 0.8611\n",
      "Epoch 153/200\n",
      "8000/8000 [==============================] - 1s 87us/step - loss: 0.3402 - acc: 0.8611\n",
      "Epoch 154/200\n",
      "8000/8000 [==============================] - 1s 87us/step - loss: 0.3384 - acc: 0.8637\n",
      "Epoch 155/200\n",
      "8000/8000 [==============================] - 1s 87us/step - loss: 0.3395 - acc: 0.8619\n",
      "Epoch 156/200\n",
      "8000/8000 [==============================] - 1s 87us/step - loss: 0.3394 - acc: 0.8614\n",
      "Epoch 157/200\n",
      "8000/8000 [==============================] - 1s 89us/step - loss: 0.3398 - acc: 0.8622\n",
      "Epoch 158/200\n",
      "8000/8000 [==============================] - 1s 88us/step - loss: 0.3392 - acc: 0.8630\n",
      "Epoch 159/200\n",
      "8000/8000 [==============================] - 1s 88us/step - loss: 0.3392 - acc: 0.8615\n",
      "Epoch 160/200\n",
      "8000/8000 [==============================] - 1s 87us/step - loss: 0.3391 - acc: 0.8602\n",
      "Epoch 161/200\n",
      "8000/8000 [==============================] - 1s 90us/step - loss: 0.3392 - acc: 0.8620\n",
      "Epoch 162/200\n",
      "8000/8000 [==============================] - 1s 90us/step - loss: 0.3387 - acc: 0.8582\n",
      "Epoch 163/200\n",
      "8000/8000 [==============================] - 1s 90us/step - loss: 0.3398 - acc: 0.8616\n",
      "Epoch 164/200\n"
     ]
    },
    {
     "name": "stdout",
     "output_type": "stream",
     "text": [
      "8000/8000 [==============================] - 1s 86us/step - loss: 0.3392 - acc: 0.8637\n",
      "Epoch 165/200\n",
      "8000/8000 [==============================] - 1s 86us/step - loss: 0.3395 - acc: 0.8607\n",
      "Epoch 166/200\n",
      "8000/8000 [==============================] - 1s 85us/step - loss: 0.3396 - acc: 0.8616\n",
      "Epoch 167/200\n",
      "8000/8000 [==============================] - 1s 85us/step - loss: 0.3392 - acc: 0.8612\n",
      "Epoch 168/200\n",
      "8000/8000 [==============================] - 1s 86us/step - loss: 0.3386 - acc: 0.8621\n",
      "Epoch 169/200\n",
      "8000/8000 [==============================] - 1s 86us/step - loss: 0.3391 - acc: 0.8611\n",
      "Epoch 170/200\n",
      "8000/8000 [==============================] - 1s 85us/step - loss: 0.3389 - acc: 0.8622\n",
      "Epoch 171/200\n",
      "8000/8000 [==============================] - 1s 85us/step - loss: 0.3391 - acc: 0.8612\n",
      "Epoch 172/200\n",
      "8000/8000 [==============================] - 1s 86us/step - loss: 0.3388 - acc: 0.8625\n",
      "Epoch 173/200\n",
      "8000/8000 [==============================] - 1s 85us/step - loss: 0.3391 - acc: 0.8624\n",
      "Epoch 174/200\n",
      "8000/8000 [==============================] - 1s 85us/step - loss: 0.3393 - acc: 0.8591\n",
      "Epoch 175/200\n",
      "8000/8000 [==============================] - 1s 85us/step - loss: 0.3392 - acc: 0.8620\n",
      "Epoch 176/200\n",
      "8000/8000 [==============================] - 1s 86us/step - loss: 0.3386 - acc: 0.8616\n",
      "Epoch 177/200\n",
      "8000/8000 [==============================] - 1s 86us/step - loss: 0.3393 - acc: 0.8617\n",
      "Epoch 178/200\n",
      "8000/8000 [==============================] - 1s 85us/step - loss: 0.3393 - acc: 0.8606\n",
      "Epoch 179/200\n",
      "8000/8000 [==============================] - 1s 85us/step - loss: 0.3391 - acc: 0.8597\n",
      "Epoch 180/200\n",
      "8000/8000 [==============================] - 1s 86us/step - loss: 0.3389 - acc: 0.8626\n",
      "Epoch 181/200\n",
      "8000/8000 [==============================] - 1s 86us/step - loss: 0.3387 - acc: 0.8616\n",
      "Epoch 182/200\n",
      "8000/8000 [==============================] - 1s 86us/step - loss: 0.3387 - acc: 0.8630\n",
      "Epoch 183/200\n",
      "8000/8000 [==============================] - 1s 85us/step - loss: 0.3378 - acc: 0.8600\n",
      "Epoch 184/200\n",
      "8000/8000 [==============================] - 1s 85us/step - loss: 0.3388 - acc: 0.8627\n",
      "Epoch 185/200\n",
      "8000/8000 [==============================] - 1s 86us/step - loss: 0.3389 - acc: 0.8619\n",
      "Epoch 186/200\n",
      "8000/8000 [==============================] - 1s 84us/step - loss: 0.3394 - acc: 0.8621\n",
      "Epoch 187/200\n",
      "8000/8000 [==============================] - 1s 88us/step - loss: 0.3385 - acc: 0.8644\n",
      "Epoch 188/200\n",
      "8000/8000 [==============================] - 1s 87us/step - loss: 0.3385 - acc: 0.8645\n",
      "Epoch 189/200\n",
      "8000/8000 [==============================] - 1s 86us/step - loss: 0.3394 - acc: 0.8614\n",
      "Epoch 190/200\n",
      "8000/8000 [==============================] - 1s 86us/step - loss: 0.3389 - acc: 0.8622\n",
      "Epoch 191/200\n",
      "8000/8000 [==============================] - 1s 87us/step - loss: 0.3394 - acc: 0.8611\n",
      "Epoch 192/200\n",
      "8000/8000 [==============================] - 1s 87us/step - loss: 0.3390 - acc: 0.8627\n",
      "Epoch 193/200\n",
      "8000/8000 [==============================] - 1s 85us/step - loss: 0.3383 - acc: 0.8617\n",
      "Epoch 194/200\n",
      "8000/8000 [==============================] - 1s 86us/step - loss: 0.3393 - acc: 0.8610\n",
      "Epoch 195/200\n",
      "8000/8000 [==============================] - 1s 87us/step - loss: 0.3393 - acc: 0.8607\n",
      "Epoch 196/200\n",
      "8000/8000 [==============================] - 1s 91us/step - loss: 0.3395 - acc: 0.8635\n",
      "Epoch 197/200\n",
      "8000/8000 [==============================] - 1s 85us/step - loss: 0.3392 - acc: 0.8606\n",
      "Epoch 198/200\n",
      "8000/8000 [==============================] - 1s 85us/step - loss: 0.3387 - acc: 0.8617\n",
      "Epoch 199/200\n",
      "8000/8000 [==============================] - 1s 85us/step - loss: 0.3379 - acc: 0.8626\n",
      "Epoch 200/200\n",
      "8000/8000 [==============================] - 1s 85us/step - loss: 0.3389 - acc: 0.8652\n"
     ]
    },
    {
     "data": {
      "text/plain": [
       "<keras.callbacks.History at 0x7ff2fba56f98>"
      ]
     },
     "execution_count": 13,
     "metadata": {},
     "output_type": "execute_result"
    }
   ],
   "source": [
    "classifier.fit(X_train, y_train, batch_size = 10, epochs = 200)"
   ]
  },
  {
   "cell_type": "markdown",
   "metadata": {},
   "source": [
    "### Predicting the Test set results"
   ]
  },
  {
   "cell_type": "code",
   "execution_count": 14,
   "metadata": {},
   "outputs": [],
   "source": [
    "y_pred = classifier.predict(X_test)\n",
    "y_pred = (y_pred > 0.5)"
   ]
  },
  {
   "cell_type": "markdown",
   "metadata": {},
   "source": [
    "### Homework Question : Testing a single data"
   ]
  },
  {
   "cell_type": "code",
   "execution_count": 17,
   "metadata": {},
   "outputs": [
    {
     "name": "stdout",
     "output_type": "stream",
     "text": [
      "[[False]]\n"
     ]
    }
   ],
   "source": [
    "new_prediction = classifier.predict(sc.transform(np.array([[0.0, 0, 600, 1, 40, 3, 60000, 2, 1, 1, 50000]])))\n",
    "new_prediction = (new_prediction>0.5)\n",
    "print(new_prediction)"
   ]
  },
  {
   "cell_type": "markdown",
   "metadata": {},
   "source": [
    "### Making the Confusion Matrix"
   ]
  },
  {
   "cell_type": "code",
   "execution_count": 16,
   "metadata": {},
   "outputs": [
    {
     "name": "stdout",
     "output_type": "stream",
     "text": [
      "[[1514   81]\n",
      " [ 198  207]]\n"
     ]
    }
   ],
   "source": [
    "from sklearn.metrics import confusion_matrix\n",
    "cm = confusion_matrix(y_test, y_pred)\n",
    "\n",
    "print (cm)"
   ]
  }
 ],
 "metadata": {
  "kernelspec": {
   "display_name": "Python 3",
   "language": "python",
   "name": "python3"
  },
  "language_info": {
   "codemirror_mode": {
    "name": "ipython",
    "version": 3
   },
   "file_extension": ".py",
   "mimetype": "text/x-python",
   "name": "python",
   "nbconvert_exporter": "python",
   "pygments_lexer": "ipython3",
   "version": "3.6.8"
  }
 },
 "nbformat": 4,
 "nbformat_minor": 2
}
